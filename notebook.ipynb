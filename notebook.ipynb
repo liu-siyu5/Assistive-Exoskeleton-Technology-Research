{
 "cells": [
  {
   "cell_type": "markdown",
   "id": "68a1a171",
   "metadata": {},
   "source": [
    "# LAB_auto.ipynb\n",
    "\n",
    "Interactive pipeline for ankle torque analysis."
   ]
  },
  {
   "cell_type": "markdown",
   "id": "3a1e654e",
   "metadata": {},
   "source": [
    "## Imports and Configuration"
   ]
  },
  {
   "cell_type": "code",
   "execution_count": null,
   "id": "779c7aeb",
   "metadata": {},
   "outputs": [],
   "source": [
    "import pandas as pd\n",
    "import numpy as np\n",
    "import matplotlib.pyplot as plt\n",
    "from mpl_toolkits.mplot3d import Axes3D\n",
    "from scipy.signal import resample_poly\n",
    "import os\n",
    "import re\n",
    "\n",
    "# Configuration\n",
    "root_dir = \"/Users/sophialiu/Downloads/LAB/dephy\"  # Replace with your actual root directory\n",
    "output_dir = \"output_torque\"  # Output directory\n",
    "\n",
    "# Create output directory\n",
    "if not os.path.exists(output_dir):\n",
    "    os.makedirs(output_dir)\n",
    "\n",
    "print(f\"Root directory: {root_dir}\")\n",
    "print(f\"Output directory: {output_dir}\")\n",
    "print(f\"Root directory exists: {os.path.exists(root_dir)}\")"
   ]
  },
  {
   "cell_type": "markdown",
   "id": "6ba01fdc",
   "metadata": {},
   "source": [
    "## File Discovery"
   ]
  },
  {
   "cell_type": "code",
   "execution_count": null,
   "id": "8f4ff34c",
   "metadata": {},
   "outputs": [],
   "source": [
    "# Find all main TSV files (S0x_T0x.tsv format)\n",
    "tsv_files = []\n",
    "\n",
    "print(\"=== File Discovery Process ===\")\n",
    "for root, dirs, files in os.walk(root_dir):\n",
    "    for file in files:\n",
    "        if file.endswith('.tsv') and re.match(r'^S\\d+_T\\d+\\.tsv$', file):\n",
    "            print(f\"\\\\nFound main TSV file: {file}\")\n",
    "\n",
    "            # Get file path\n",
    "            position_path = os.path.join(root, file)\n",
    "\n",
    "            # Parse main file information\n",
    "            file_prefix = file[:-4]  # Remove .tsv\n",
    "\n",
    "            # Extract trial number\n",
    "            match = re.match(r'^S\\\\d+_T(\\\\d+)\\\\.tsv$', file)\n",
    "            if match:\n",
    "                trial_num = int(match.group(1))\n",
    "\n",
    "                # Determine left/right foot force data files\n",
    "                if trial_num in [5, 7]:\n",
    "                    right_force_file = f\"{file_prefix}_f_7.tsv\"  # Right foot uses f_7\n",
    "                    left_force_file = f\"{file_prefix}_f_6.tsv\"   # Left foot uses f_6\n",
    "                    print(f\"  Trial T{trial_num} - Left/right foot data swapped\")\n",
    "                else:\n",
    "                    right_force_file = f\"{file_prefix}_f_6.tsv\"  # Right foot uses f_6\n",
    "                    left_force_file = f\"{file_prefix}_f_7.tsv\"   # Left foot uses f_7\n",
    "                    print(f\"  Trial T{trial_num} - Standard left/right foot configuration\")\n",
    "\n",
    "                right_force_path = os.path.join(root, right_force_file)\n",
    "                left_force_path = os.path.join(root, left_force_file)\n",
    "\n",
    "                print(f\"  Right foot force file: {right_force_file} - {'exists' if os.path.exists(right_force_path) else 'not found'}\")\n",
    "                print(f\"  Left foot force file: {left_force_file} - {'exists' if os.path.exists(left_force_path) else 'not found'}\")\n",
    "\n",
    "                # Check if force data files exist and add to processing list\n",
    "                if os.path.exists(right_force_path):\n",
    "                    tsv_files.append((position_path, right_force_path, \"RIGHT\"))\n",
    "                    print(f\"  ✓ Added right foot data pair\")\n",
    "\n",
    "                if os.path.exists(left_force_path):\n",
    "                    tsv_files.append((position_path, left_force_path, \"LEFT\"))\n",
    "                    print(f\"  ✓ Added left foot data pair\")\n",
    "\n",
    "print(f\"\\\\n=== Summary ===\")\n",
    "print(f\"Found {len(tsv_files)} matching position and force data file pairs\")\n",
    "\n",
    "# Display all matched file pairs\n",
    "for i, (pos_path, force_path, side) in enumerate(tsv_files, 1):\n",
    "    print(f\"{i}. {os.path.basename(pos_path)} + {os.path.basename(force_path)} ({side})\")"
   ]
  },
  {
   "cell_type": "markdown",
   "id": "e53ec3fb",
   "metadata": {},
   "source": [
    "## Quick demo cell"
   ]
  },
  {
   "cell_type": "code",
   "execution_count": null,
   "id": "ee6fd81d",
   "metadata": {},
   "outputs": [],
   "source": [
    "# ▶️ Demo: Run one file to see plots\n",
    "if len(tsv_files) == 0:\n",
    "    print(\"No TSV files discovered, please check root_dir.\")\n",
    "else:\n",
    "    # pick first pair for demo\n",
    "    demo_pos, demo_force, demo_side = tsv_files[0]\n",
    "    # locate opposite foot force files for plate offsets\n",
    "    right_fp = left_fp = None\n",
    "    for p, f, s in tsv_files:\n",
    "        if s == \"RIGHT\":\n",
    "            right_fp = f\n",
    "        elif s == \"LEFT\":\n",
    "            left_fp = f\n",
    "    demo_result = process_single_file(demo_pos, demo_force, demo_side,\n",
    "                                      right_force_path=right_fp,\n",
    "                                      left_force_path=left_fp)\n",
    "\n",
    "    if demo_result:\n",
    "        plot_ankle_position_interactive(demo_result)\n",
    "        plot_torque_data_interactive(demo_result)"
   ]
  }
 ],
 "metadata": {
  "language_info": {
   "name": "python"
  }
 },
 "nbformat": 4,
 "nbformat_minor": 5
}
